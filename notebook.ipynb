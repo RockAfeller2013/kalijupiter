{
 "cells": [
  {
   "cell_type": "markdown",
   "metadata": {
    "nbpresent": {
     "id": "45e1a318-9152-480d-9a7c-90764685fb8f"
    }
   },
   "source": [
    "# Introduction\n",
    "\n",
    "Detailed in this Jupyter Notebook is the methodology utilized to Pen Test Active Directory. This Jupyter Notebook will also serve to standardize techniques across lab resources and train resources on a common methodology."
   ]
  },
  {
   "cell_type": "markdown",
   "metadata": {},
   "source": [
    "## Setup"
   ]
  },
  {
   "cell_type": "markdown",
   "metadata": {},
   "source": [
    "Jupyter Notebooks have a kernel that can be either Python 3 (allowing you to execute Python code directly in code cells) or a Bash kernel (enabling you to run Linux commands). \n",
    "\n",
    "Most Kali Linux commands are executed in a Bash terminal, and you can change the Jupyter Notebook kernel to Bash via Kernel > Change Kernel or using the option in the top-right corner.\n",
    "\n",
    "However, in this case, we will use Python and its os.system('command') function to execute Kali tools. This approach allows us to:\n",
    "\n",
    ">Easily integrate Jupyter Notebook with Kali Linux tools.\n",
    "\n",
    ">Capture command outputs for documentation.\n",
    "\n",
    ">Analyze results using Python’s data science capabilities.\n",
    "\n",
    ">Later, enhance analysis with Anaconda and DeepSeek.\n",
    "\n",
    "Make sure to run the setup scripts to install the tools before hand, or via the below cells."
   ]
  },
  {
   "cell_type": "markdown",
   "metadata": {},
   "source": [
    "## Setup All Tools "
   ]
  },
  {
   "cell_type": "code",
   "execution_count": null,
   "metadata": {},
   "outputs": [],
   "source": [
    "import os\n",
    "os.system('echo \"kali\" | sudo -S apt update && sudo -S apt install -y nmap nbtscan')"
   ]
  },
  {
   "cell_type": "markdown",
   "metadata": {},
   "source": [
    "## Install Tools via Jupiter Notebook\n",
    "\n",
    "I am experimenting with the best way to install tools to work interactively within Jupyter Notebook. Here are some examples:"
   ]
  },
  {
   "cell_type": "code",
   "execution_count": null,
   "metadata": {},
   "outputs": [],
   "source": [
    "!echo \"kali\" | sudo apt update && apt install -y nmap\n"
   ]
  },
  {
   "cell_type": "code",
   "execution_count": null,
   "metadata": {},
   "outputs": [],
   "source": [
    "!echo 'kali' | sudo apt upgrade -y nmap"
   ]
  },
  {
   "cell_type": "code",
   "execution_count": null,
   "metadata": {},
   "outputs": [],
   "source": [
    "import os\n",
    "os.system('echo \"kali\" | sudo -S apt update && sudo -S apt install -y nmap')"
   ]
  },
  {
   "cell_type": "code",
   "execution_count": null,
   "metadata": {},
   "outputs": [],
   "source": [
    "import os\n",
    "os.system('echo \"kali\" | sudo -S apt update && apt upgrade -y nmap')"
   ]
  },
  {
   "cell_type": "code",
   "execution_count": null,
   "metadata": {},
   "outputs": [],
   "source": [
    "!nmap --version"
   ]
  },
  {
   "cell_type": "code",
   "execution_count": null,
   "metadata": {},
   "outputs": [],
   "source": [
    "import os\n",
    "os.system(\"nmap --version\")"
   ]
  },
  {
   "cell_type": "code",
   "execution_count": null,
   "metadata": {},
   "outputs": [],
   "source": [
    "import subprocess\n",
    "\n",
    "# Define the nmap command\n",
    "command = [\"nmap\", \"-sP\", \"10.2.10.0/24\"]\n",
    "\n",
    "# Run the command and capture the output\n",
    "result = subprocess.run(command, stdout=subprocess.PIPE, stderr=subprocess.PIPE, text=True)\n",
    "\n",
    "# Print the output\n",
    "if result.returncode == 0:\n",
    "    print(\"Nmap scan results:\")\n",
    "    print(result.stdout)\n",
    "else:\n",
    "    print(\"Error running nmap:\")\n",
    "    print(result.stderr)"
   ]
  },
  {
   "cell_type": "code",
   "execution_count": null,
   "metadata": {},
   "outputs": [],
   "source": [
    "# In another cell, you can use the information from previous result\n",
    "\n",
    "print(result)"
   ]
  },
  {
   "cell_type": "markdown",
   "metadata": {},
   "source": [
    "# Reconnaissance"
   ]
  },
  {
   "cell_type": "markdown",
   "metadata": {},
   "source": [
    "\n",
    "> Always save your results for later analysie, create libary for later use and name each text tile. Then use all of the outputs to creat a report.\n",
    "\n",
    "> Once the variables have been setup, you can Runtime, Run All to create the report."
   ]
  },
  {
   "cell_type": "markdown",
   "metadata": {},
   "source": [
    "## START TIME"
   ]
  },
  {
   "cell_type": "code",
   "execution_count": null,
   "metadata": {
    "code_folding": []
   },
   "outputs": [],
   "source": [
    "from datetime import datetime\n",
    "\n",
    "now = datetime.now()\n",
    "\n",
    "start_time = now.strftime(\"%H:%M:%S\")\n",
    "print(\"Start Time =\", start_time)"
   ]
  },
  {
   "cell_type": "markdown",
   "metadata": {},
   "source": [
    "#@ Defaults\n",
    "Prior to running any cells assign a value to the variables and run the cell. This will change the targets for subdomain enumeration without needing to modify the script parameters. An example of an acceptable domain to replace the parameter with would be: \"protiviti.com\". Next set the ORG_NAME variable to the name of the target org."
   ]
  },
  {
   "cell_type": "code",
   "execution_count": null,
   "metadata": {
    "scrolled": true
   },
   "outputs": [],
   "source": [
    "#Set DOMAIN & FOLDER_NAME Variable\n",
    "DOMAIN = \"example.com\"\n",
    "ORG_NAME = \"example\"\n",
    "FOLDER_NAME = \"example\"\n",
    "!mkdir $FOLDER_NAME"
   ]
  },
  {
   "cell_type": "code",
   "execution_count": null,
   "metadata": {},
   "outputs": [],
   "source": [
    "print(\"The Following variables have been set:\")\n",
    "print(\"\")\n",
    "print(\"DOMAIN NAME: \" + DOMAIN)\n",
    "print(\"FOLDER NAME: \" + FOLDER_NAME)\n",
    "print(\"\")"
   ]
  },
  {
   "cell_type": "code",
   "execution_count": null,
   "metadata": {},
   "outputs": [],
   "source": [
    "print(\"Cloudenum in progress\")\n",
    "!python3 {configDict['cloudenum']['path']} -k $ORG_NAME -t 50 --disable-gcp --disable-azure -l cloudenum.csv\n",
    "!mv --target-directory=$FOLDER_NAME/ cloudenum.csv\n",
    "print(\"\")\n",
    "print(\"Cloudenum Complete\")"
   ]
  },
  {
   "cell_type": "markdown",
   "metadata": {},
   "source": [
    "## Network Discovery"
   ]
  },
  {
   "cell_type": "code",
   "execution_count": null,
   "metadata": {},
   "outputs": [],
   "source": [
    "!ip a"
   ]
  },
  {
   "cell_type": "code",
   "execution_count": 2,
   "metadata": {},
   "outputs": [
    {
     "name": "stdout",
     "output_type": "stream",
     "text": [
      "10.2.10.11\n",
      "10.2.10.21\n",
      "10.2.10.254\n"
     ]
    }
   ],
   "source": [
    "!for i in {1..255}; do ping -c 1 10.2.10.$i | grep \"bytes from\" | cut -d \" \" -f 4 | tr -d \":\" & done"
   ]
  },
  {
   "cell_type": "code",
   "execution_count": 1,
   "metadata": {},
   "outputs": [],
   "source": [
    "# Create Targets.txt\n",
    "!for i in {1..255}; do ping -c 1 10.2.10.$i | grep \"bytes from\" | cut -d \" \" -f 4 | tr -d \":\" & done > targets.txt"
   ]
  },
  {
   "cell_type": "code",
   "execution_count": 4,
   "metadata": {},
   "outputs": [
    {
     "name": "stdout",
     "output_type": "stream",
     "text": [
      "10.2.10.11\n",
      "10.2.10.21\n",
      "10.2.10.254\n",
      "\n"
     ]
    }
   ],
   "source": [
    "# Read and print the contents of targets.txt\n",
    "with open('targets.txt', 'r') as file:\n",
    "    targets = file.read()\n",
    "print(targets)"
   ]
  },
  {
   "cell_type": "code",
   "execution_count": 3,
   "metadata": {},
   "outputs": [
    {
     "name": "stdout",
     "output_type": "stream",
     "text": [
      "10.2.10.11\n",
      "10.2.10.21\n",
      "10.2.10.254\n"
     ]
    }
   ],
   "source": [
    "!nmap -n -sn 10.2.10.0/24 -oG - | awk '/Up$/{print $2}'"
   ]
  },
  {
   "cell_type": "code",
   "execution_count": null,
   "metadata": {},
   "outputs": [],
   "source": [
    "# Scan for Open Ports (using nmap):\n",
    "\n",
    "!nmap -sP 10.2.10.0/24\n",
    "!nmap -p- -sCV -sS -T4 10.2.10.11 -vv\n",
    "!nmap -n -sn 10.2.10.0/24 -oG - | awk '/Up$/{print $2}'\n",
    "!nmap -iL targets.txt -sV --open -oG - | grep \"Ports:\""
   ]
  },
  {
   "cell_type": "code",
   "execution_count": 5,
   "metadata": {},
   "outputs": [
    {
     "name": "stdout",
     "output_type": "stream",
     "text": [
      "Starting Nmap 7.95 ( https://nmap.org ) at 2025-03-05 18:56 EST\n",
      "Nmap scan report for 10.2.10.11\n",
      "Host is up (0.0015s latency).\n",
      "Nmap scan report for 10.2.10.21\n",
      "Host is up (0.0015s latency).\n",
      "Nmap scan report for 10.2.10.254\n",
      "Host is up (0.00084s latency).\n",
      "Nmap done: 256 IP addresses (3 hosts up) scanned in 4.53 seconds\n"
     ]
    }
   ],
   "source": [
    "!nmap -sP 10.2.10.0/24"
   ]
  },
  {
   "cell_type": "code",
   "execution_count": 6,
   "metadata": {},
   "outputs": [
    {
     "name": "stdout",
     "output_type": "stream",
     "text": [
      "Host: 10.2.10.11 ()\tPorts: 53/open/tcp//domain//Simple DNS Plus/, 88/open/tcp//kerberos-sec//Microsoft Windows Kerberos (server time: 2025-03-06 14:56:47Z)/, 135/open/tcp//msrpc//Microsoft Windows RPC/, 139/open/tcp//netbios-ssn//Microsoft Windows netbios-ssn/, 389/open/tcp//ldap//Microsoft Windows Active Directory LDAP (Domain: ludus.domain0., Site: Default-First-Site-Name)/, 445/open/tcp//microsoft-ds?///, 464/open/tcp//kpasswd5?///, 593/open/tcp//ncacn_http//Microsoft Windows RPC over HTTP 1.0/, 636/open/tcp//tcpwrapped///, 3268/open/tcp//ldap//Microsoft Windows Active Directory LDAP (Domain: ludus.domain0., Site: Default-First-Site-Name)/, 3269/open/tcp//tcpwrapped///, 3389/open/tcp//ms-wbt-server//Microsoft Terminal Services/, 5986/open/tcp//ssl|http//Microsoft HTTPAPI httpd 2.0 (SSDP|UPnP)/\tIgnored State: filtered (987)\n",
      "Host: 10.2.10.21 ()\tPorts: 135/open/tcp//msrpc//Microsoft Windows RPC/, 445/open/tcp//microsoft-ds?///, 3389/open/tcp//ms-wbt-server//Microsoft Terminal Services/, 5986/open/tcp//ssl|http//Microsoft HTTPAPI httpd 2.0 (SSDP|UPnP)/\tIgnored State: filtered (996)\n",
      "Host: 10.2.10.254 ()\tPorts: 53/open/tcp//domain//Unbound/, 3000/open/tcp//nagios-nsca//Nagios NSCA/\n"
     ]
    }
   ],
   "source": [
    "!nmap -iL targets.txt -sV --open -oG - | grep \"Ports:\""
   ]
  },
  {
   "cell_type": "code",
   "execution_count": 7,
   "metadata": {},
   "outputs": [
    {
     "name": "stdout",
     "output_type": "stream",
     "text": [
      "Starting Nmap 7.95 ( https://nmap.org ) at 2025-03-05 18:57 EST\n",
      "Nmap scan report for 10.2.10.11\n",
      "Host is up (0.00052s latency).\n",
      "Nmap scan report for 10.2.10.21\n",
      "Host is up (0.00054s latency).\n",
      "Nmap scan report for 10.2.10.254\n",
      "Host is up (0.00028s latency).\n",
      "Nmap done: 3 IP addresses (3 hosts up) scanned in 0.09 seconds\n"
     ]
    }
   ],
   "source": [
    "!nmap -sP -iL targets.txt"
   ]
  },
  {
   "cell_type": "code",
   "execution_count": 8,
   "metadata": {},
   "outputs": [
    {
     "name": "stdout",
     "output_type": "stream",
     "text": [
      "Starting Nmap 7.95 ( https://nmap.org ) at 2025-03-05 18:57 EST\n",
      "NSE: Loaded 157 scripts for scanning.\n",
      "NSE: Script Pre-scanning.\n",
      "NSE: Starting runlevel 1 (of 3) scan.\n",
      "Initiating NSE at 18:57\n",
      "Completed NSE at 18:57, 0.00s elapsed\n",
      "NSE: Starting runlevel 2 (of 3) scan.\n",
      "Initiating NSE at 18:57\n",
      "Completed NSE at 18:57, 0.00s elapsed\n",
      "NSE: Starting runlevel 3 (of 3) scan.\n",
      "Initiating NSE at 18:57\n",
      "Completed NSE at 18:57, 0.00s elapsed\n",
      "Initiating Ping Scan at 18:57\n",
      "Scanning 10.2.10.11 [4 ports]\n",
      "Completed Ping Scan at 18:57, 0.02s elapsed (1 total hosts)\n",
      "Initiating Parallel DNS resolution of 1 host. at 18:57\n",
      "Completed Parallel DNS resolution of 1 host. at 18:57, 0.01s elapsed\n",
      "Initiating SYN Stealth Scan at 18:57\n",
      "Scanning 10.2.10.11 [65535 ports]\n",
      "Discovered open port 139/tcp on 10.2.10.11\n",
      "Discovered open port 3389/tcp on 10.2.10.11\n",
      "Discovered open port 135/tcp on 10.2.10.11\n",
      "Discovered open port 53/tcp on 10.2.10.11\n",
      "Discovered open port 445/tcp on 10.2.10.11\n"
     ]
    }
   ],
   "source": [
    "!nmap -p- -sCV -sS -T4 10.2.10.11 -vv"
   ]
  },
  {
   "cell_type": "markdown",
   "metadata": {},
   "source": [
    "## Netbios Enumeration"
   ]
  },
  {
   "cell_type": "code",
   "execution_count": 10,
   "metadata": {},
   "outputs": [
    {
     "name": "stdout",
     "output_type": "stream",
     "text": [
      "Doing NBT name scan for addresses from targets.txt\n",
      "\n",
      "IP address       NetBIOS Name     Server    User             MAC address      \n",
      "------------------------------------------------------------------------------\n"
     ]
    }
   ],
   "source": [
    "!nbtscan -f targets.txt"
   ]
  },
  {
   "cell_type": "code",
   "execution_count": 15,
   "metadata": {},
   "outputs": [
    {
     "name": "stdout",
     "output_type": "stream",
     "text": [
      "Doing NBT name scan for addresses from 10.2.10.0/24\n",
      "\n",
      "IP address       NetBIOS Name     Server    User             MAC address      \n",
      "------------------------------------------------------------------------------\n"
     ]
    }
   ],
   "source": [
    "!nbtscan -r 10.2.10.0/24\n",
    "!nbtscan -v -s : 10.2.10.0/24"
   ]
  },
  {
   "cell_type": "code",
   "execution_count": 12,
   "metadata": {},
   "outputs": [
    {
     "name": "stdout",
     "output_type": "stream",
     "text": [
      "Starting Nmap 7.95 ( https://nmap.org ) at 2025-03-05 18:58 EST\n",
      "Nmap scan report for 10.2.10.11\n",
      "Host is up (0.0024s latency).\n",
      "\n",
      "PORT    STATE         SERVICE\n",
      "137/udp open|filtered netbios-ns\n",
      "\n",
      "Nmap scan report for 10.2.10.21\n",
      "Host is up (0.0027s latency).\n",
      "\n",
      "PORT    STATE         SERVICE\n",
      "137/udp open|filtered netbios-ns\n",
      "\n",
      "Nmap scan report for 10.2.10.254\n",
      "Host is up (0.00062s latency).\n",
      "\n",
      "PORT    STATE  SERVICE\n",
      "137/udp closed netbios-ns\n",
      "\n",
      "Nmap done: 3 IP addresses (3 hosts up) scanned in 4.44 seconds\n"
     ]
    }
   ],
   "source": [
    "!nmap -iL targets.txt -sU -p 137 --script nbstat.nse"
   ]
  },
  {
   "cell_type": "code",
   "execution_count": 13,
   "metadata": {},
   "outputs": [
    {
     "name": "stdout",
     "output_type": "stream",
     "text": [
      "\u001b[1m\u001b[34mSMB\u001b[0m         10.2.10.11      445    SA-DC01-2022     \u001b[1m\u001b[34m[*]\u001b[0m Windows Server 2022 Build 20348 x64 (name:SA-DC01-2022) (domain:ludus.domain) (signing:True) (SMBv1:False)\n",
      "\u001b[1m\u001b[34mSMB\u001b[0m         10.2.10.21      445    SA-WIN11-22H2-1  \u001b[1m\u001b[34m[*]\u001b[0m Windows 11 Build 22621 x64 (name:SA-WIN11-22H2-1) (domain:ludus.domain) (signing:False) (SMBv1:False)\n"
     ]
    }
   ],
   "source": [
    "!crackmapexec smb 10.2.10.0/24 "
   ]
  },
  {
   "cell_type": "markdown",
   "metadata": {},
   "source": [
    "## SMB Enumeration\n"
   ]
  },
  {
   "cell_type": "code",
   "execution_count": 16,
   "metadata": {},
   "outputs": [
    {
     "name": "stdout",
     "output_type": "stream",
     "text": [
      "Anonymous login successful\n",
      "\n",
      "\tSharename       Type      Comment\n",
      "\t---------       ----      -------\n",
      "Reconnecting with SMB1 for workgroup listing.\n",
      "do_connect: Connection to 10.2.10.11 failed (Error NT_STATUS_RESOURCE_NAME_NOT_FOUND)\n",
      "Unable to connect with SMB1 -- no workgroup available\n"
     ]
    }
   ],
   "source": [
    "# List SMB Shares (using smbclient):\n",
    "\n",
    "!smbclient -L //10.2.10.11 -N"
   ]
  },
  {
   "cell_type": "code",
   "execution_count": 17,
   "metadata": {},
   "outputs": [
    {
     "name": "stdout",
     "output_type": "stream",
     "text": [
      "Password for [WORKGROUP\\administrator]:Password for [WORKGROUP\\]:"
     ]
    }
   ],
   "source": [
    "# Check for Null Session Vulnerability (using rpcclient):\n",
    "\n",
    "!rpcclient -U administrator 10.2.10.11\n",
    "!rpcclient -U \"\" 10.2.10.11\n",
    "\n"
   ]
  },
  {
   "cell_type": "code",
   "execution_count": 19,
   "metadata": {},
   "outputs": [
    {
     "name": "stdout",
     "output_type": "stream",
     "text": [
      "\u001b[92mENUM4LINUX - next generation (v1.3.4)\u001b[0m\n",
      "\n",
      " ==========================\n",
      "|    Target Information    |\n",
      " ==========================\n",
      "\u001b[94m[*] Target ........... 10.2.10.11\u001b[0m\n",
      "\u001b[94m[*] Username ......... ''\u001b[0m\n",
      "\u001b[94m[*] Random Username .. 'smyzdhcq'\u001b[0m\n",
      "\u001b[94m[*] Password ......... ''\u001b[0m\n",
      "\u001b[94m[*] Timeout .......... 5 second(s)\u001b[0m\n",
      "\n",
      " ===================================\n",
      "|    Listener Scan on 10.2.10.11    |\n",
      " ===================================\n",
      "\u001b[94m[*] Checking LDAP\u001b[0m\n",
      "\u001b[92m[+] LDAP is accessible on 389/tcp\u001b[0m\n",
      "\u001b[94m[*] Checking LDAPS\u001b[0m\n",
      "\u001b[92m[+] LDAPS is accessible on 636/tcp\u001b[0m\n",
      "\u001b[94m[*] Checking SMB\u001b[0m\n",
      "\u001b[92m[+] SMB is accessible on 445/tcp\u001b[0m\n",
      "\u001b[94m[*] Checking SMB over NetBIOS\u001b[0m\n",
      "\u001b[92m[+] SMB over NetBIOS is accessible on 139/tcp\u001b[0m\n",
      "\n",
      " ==================================================\n",
      "|    Domain Information via LDAP for 10.2.10.11    |\n",
      " ==================================================\n",
      "\u001b[94m[*] Trying LDAP\u001b[0m\n",
      "\u001b[92m[+] Appears to be root/parent DC\u001b[0m\n",
      "\u001b[92m[+] Long domain name is: ludus.domain\u001b[0m\n",
      "\n",
      " =========================================================\n",
      "|    NetBIOS Names and Workgroup/Domain for 10.2.10.11    |\n",
      " =========================================================\n",
      "\u001b[91m[-] Could not get NetBIOS names information via 'nmblookup': timed out\u001b[0m\n",
      "\n",
      " =======================================\n",
      "|    SMB Dialect Check on 10.2.10.11    |\n",
      " =======================================\n",
      "\u001b[94m[*] Trying on 445/tcp\u001b[0m\n",
      "\u001b[92m[+] Supported dialects and settings:\n",
      "Supported dialects:\n",
      "  SMB 1.0: false\n",
      "  SMB 2.02: true\n",
      "  SMB 2.1: true\n",
      "  SMB 3.0: true\n",
      "  SMB 3.1.1: true\n",
      "Preferred dialect: SMB 3.0\n",
      "SMB1 only: false\n",
      "SMB signing required: true\u001b[0m\n",
      "\n",
      " =========================================================\n",
      "|    Domain Information via SMB session for 10.2.10.11    |\n",
      " =========================================================\n",
      "\u001b[94m[*] Enumerating via unauthenticated SMB session on 445/tcp\u001b[0m\n",
      "\u001b[92m[+] Found domain information via SMB\n",
      "NetBIOS computer name: SA-DC01-2022\n",
      "NetBIOS domain name: ludus\n",
      "DNS domain: ludus.domain\n",
      "FQDN: SA-DC01-2022.ludus.domain\n",
      "Derived membership: domain member\n",
      "Derived domain: ludus\u001b[0m\n",
      "\n",
      " =======================================\n",
      "|    RPC Session Check on 10.2.10.11    |\n",
      " =======================================\n",
      "\u001b[94m[*] Check for null session\u001b[0m\n",
      "\u001b[92m[+] Server allows session using username '', password ''\u001b[0m\n",
      "\u001b[94m[*] Check for random user\u001b[0m\n",
      "\u001b[91m[-] Could not establish random user session: STATUS_LOGON_FAILURE\u001b[0m\n",
      "\n",
      " =================================================\n",
      "|    Domain Information via RPC for 10.2.10.11    |\n",
      " =================================================\n",
      "\u001b[92m[+] Domain: ludus\u001b[0m\n",
      "\u001b[92m[+] Domain SID: S-1-5-21-3597974917-2257349762-3523149234\u001b[0m\n",
      "\u001b[92m[+] Membership: domain member\u001b[0m\n",
      "\n",
      " =============================================\n",
      "|    OS Information via RPC for 10.2.10.11    |\n",
      " =============================================\n",
      "\u001b[94m[*] Enumerating via unauthenticated SMB session on 445/tcp\u001b[0m\n",
      "\u001b[92m[+] Found OS information via SMB\u001b[0m\n",
      "\u001b[94m[*] Enumerating via 'srvinfo'\u001b[0m\n",
      "\u001b[91m[-] Could not get OS info via 'srvinfo': STATUS_ACCESS_DENIED\u001b[0m\n",
      "\u001b[92m[+] After merging OS information we have the following result:\n",
      "OS: Windows 10, Windows Server 2019, Windows Server 2016\n",
      "OS version: '10.0'\n",
      "OS release: ''\n",
      "OS build: '20348'\n",
      "Native OS: not supported\n",
      "Native LAN manager: not supported\n",
      "Platform id: null\n",
      "Server type: null\n",
      "Server type string: null\u001b[0m\n",
      "\n",
      " ===================================\n",
      "|    Users via RPC on 10.2.10.11    |\n",
      " ===================================\n",
      "\u001b[94m[*] Enumerating users via 'querydispinfo'\u001b[0m\n",
      "\u001b[91m[-] Could not find users via 'querydispinfo': STATUS_ACCESS_DENIED\u001b[0m\n",
      "\u001b[94m[*] Enumerating users via 'enumdomusers'\u001b[0m\n",
      "\u001b[91m[-] Could not find users via 'enumdomusers': STATUS_ACCESS_DENIED\u001b[0m\n",
      "\n",
      " ====================================\n",
      "|    Groups via RPC on 10.2.10.11    |\n",
      " ====================================\n",
      "\u001b[94m[*] Enumerating local groups\u001b[0m\n",
      "\u001b[91m[-] Could not get groups via 'enumalsgroups domain': STATUS_ACCESS_DENIED\u001b[0m\n",
      "\u001b[94m[*] Enumerating builtin groups\u001b[0m\n",
      "\u001b[91m[-] Could not get groups via 'enumalsgroups builtin': STATUS_ACCESS_DENIED\u001b[0m\n",
      "\u001b[94m[*] Enumerating domain groups\u001b[0m\n",
      "\u001b[91m[-] Could not get groups via 'enumdomgroups': STATUS_ACCESS_DENIED\u001b[0m\n",
      "\n",
      " ====================================\n",
      "|    Shares via RPC on 10.2.10.11    |\n",
      " ====================================\n",
      "\u001b[94m[*] Enumerating shares\u001b[0m\n",
      "\u001b[92m[+] Found 0 share(s) for user '' with password '', try a different user\u001b[0m\n",
      "\n",
      " =======================================\n",
      "|    Policies via RPC for 10.2.10.11    |\n",
      " =======================================\n",
      "\u001b[94m[*] Trying port 445/tcp\u001b[0m\n",
      "\u001b[91m[-] SMB connection error on port 445/tcp: STATUS_ACCESS_DENIED\u001b[0m\n",
      "\u001b[94m[*] Trying port 139/tcp\u001b[0m\n",
      "\u001b[91m[-] SMB connection error on port 139/tcp: session failed\u001b[0m\n",
      "\n",
      " =======================================\n",
      "|    Printers via RPC for 10.2.10.11    |\n",
      " =======================================\n",
      "\u001b[91m[-] Could not get printer info via 'enumprinters': STATUS_ACCESS_DENIED\u001b[0m\n",
      "\n",
      "Completed after 5.35 seconds\n"
     ]
    }
   ],
   "source": [
    "# Enumerate SMB Users (using enum4linux):\n",
    "\n",
    "#!enum4linux -U 10.2.10.11\n",
    "!enum4linux-ng -A 10.2.10.11"
   ]
  },
  {
   "cell_type": "markdown",
   "metadata": {},
   "source": [
    "## AD Username and password list from Website"
   ]
  },
  {
   "cell_type": "markdown",
   "metadata": {},
   "source": [
    "## Create Username list from LinkedIn\n",
    "\n",
    "\n",
    "https://github.com/initstring/linkedin2username\n",
    "\n",
    "linkedin2username.py -c targetco -d 5 -n 'targetco.com'\n",
    "\n",
    "\n",
    "usage: linkedin2username.py [-h] -c COMPANY [-n DOMAIN] [-d DEPTH]\n",
    "  [-s SLEEP] [-x PROXY] [-k KEYWORDS] [-g] [-o OUTPUT]\n",
    "\n",
    "OSINT tool to generate lists of probable usernames from a given company's LinkedIn page.\n",
    "This tool may break when LinkedIn changes their site.\n",
    "Please open issues on GitHub to report any inconsistencies.\n",
    "\n",
    "optional arguments:\n",
    "  -h, --help            show this help message and exit\n",
    "  -c COMPANY, --company COMPANY\n",
    "                        Company name exactly as typed in the company linkedin profile page URL.\n",
    "  -n DOMAIN, --domain DOMAIN\n",
    "                        Append a domain name to username output.\n",
    "                        [example: \"-n targetco.com\" would output jschmoe@targetco.com]\n",
    "  -d DEPTH, --depth DEPTH\n",
    "                        Search depth (how many loops of 25). If unset, will try to grab them\n",
    "                        all.\n",
    "  -s SLEEP, --sleep SLEEP\n",
    "                        Seconds to sleep between search loops. Defaults to 0.\n",
    "  -x PROXY, --proxy PROXY\n",
    "                        Proxy server to use. WARNING: WILL DISABLE SSL VERIFICATION.\n",
    "                        [example: \"-p https://localhost:8080\"]\n",
    "  -k KEYWORDS, --keywords KEYWORDS\n",
    "                        Filter results by a a list of command separated keywords.\n",
    "                        Will do a separate loop for each keyword,\n",
    "                        potentially bypassing the 1,000 record limit.\n",
    "                        [example: \"-k 'sales,human resources,information technology']\n",
    "  -g, --geoblast        Attempts to bypass the 1,000 record search limit by running\n",
    "                        multiple searches split across geographic regions.\n",
    "  -o OUTPUT, --output OUTPUT\n",
    "                        Output Directory, defaults to li2u-output"
   ]
  },
  {
   "cell_type": "markdown",
   "metadata": {},
   "source": [
    "## LDAP Enumeration"
   ]
  },
  {
   "cell_type": "code",
   "execution_count": 22,
   "metadata": {},
   "outputs": [
    {
     "ename": "SyntaxError",
     "evalue": "invalid syntax (4126407748.py, line 1)",
     "output_type": "error",
     "traceback": [
      "  \u001b[36mCell\u001b[39m\u001b[36m \u001b[39m\u001b[32mIn[22]\u001b[39m\u001b[32m, line 1\u001b[39m\n\u001b[31m    \u001b[39m\u001b[31mldapsearch -x -h 10.2.10.11 -b \"DC=domain,DC=com\" -s sub \"(objectClass=*)\"\u001b[39m\n                     ^\n\u001b[31mSyntaxError\u001b[39m\u001b[31m:\u001b[39m invalid syntax\n"
     ]
    }
   ],
   "source": [
    "ldapsearch -x -h 10.2.10.11 -b \"DC=domain,DC=com\" -s sub \"(objectClass=*)\" "
   ]
  },
  {
   "cell_type": "code",
   "execution_count": 21,
   "metadata": {},
   "outputs": [
    {
     "ename": "SyntaxError",
     "evalue": "invalid syntax (701938972.py, line 3)",
     "output_type": "error",
     "traceback": [
      "  \u001b[36mCell\u001b[39m\u001b[36m \u001b[39m\u001b[32mIn[21]\u001b[39m\u001b[32m, line 3\u001b[39m\n\u001b[31m    \u001b[39m\u001b[31mldapsearch -x -h 192.168.1.1 -b \"DC=domain,DC=com\" \"(objectClass=user)\" sAMAccountName #> users.txt\u001b[39m\n                     ^\n\u001b[31mSyntaxError\u001b[39m\u001b[31m:\u001b[39m invalid syntax\n"
     ]
    }
   ],
   "source": [
    "# Extract Users from LDAP:\n",
    "\n",
    "ldapsearch -x -h 192.168.1.1 -b \"DC=domain,DC=com\" \"(objectClass=user)\" sAMAccountName #> users.txt"
   ]
  },
  {
   "cell_type": "code",
   "execution_count": null,
   "metadata": {},
   "outputs": [],
   "source": [
    "# Extract Computers from LDAP:\n",
    "\n",
    "ldapsearch -x -h 192.168.1.1 -b \"DC=domain,DC=com\" \"(objectClass=computer)\" name #> computers.txt\n"
   ]
  },
  {
   "cell_type": "markdown",
   "metadata": {},
   "source": [
    "## Kerberos Enumeration"
   ]
  },
  {
   "cell_type": "code",
   "execution_count": null,
   "metadata": {},
   "outputs": [],
   "source": [
    "# Enumerate Kerberos Users (using kerbrute):\n",
    "\n",
    "kerbrute userenum --dc 192.168.1.1 -d domain.com users.txt"
   ]
  },
  {
   "cell_type": "code",
   "execution_count": null,
   "metadata": {},
   "outputs": [],
   "source": [
    "# Request a Kerberos Ticket (using impacket):\n",
    "\n",
    "python3 GetNPUsers.py domain.com/ -usersfile users.txt -no-pass"
   ]
  },
  {
   "cell_type": "code",
   "execution_count": null,
   "metadata": {},
   "outputs": [],
   "source": [
    "## DNS Enumeration"
   ]
  },
  {
   "cell_type": "code",
   "execution_count": null,
   "metadata": {},
   "outputs": [],
   "source": [
    "# Query DNS for Domain Records (using dig):\n",
    "\n",
    "dig @192.168.1.1 domain.com ANY"
   ]
  },
  {
   "cell_type": "code",
   "execution_count": null,
   "metadata": {},
   "outputs": [],
   "source": [
    "# Perform a Zone Transfer (if allowed):\n",
    "\n",
    "dig axfr @192.168.1.1 domain.com"
   ]
  },
  {
   "cell_type": "code",
   "execution_count": null,
   "metadata": {},
   "outputs": [],
   "source": [
    "# Enumerate DNS Records (using dnsenum):\n",
    "\n",
    "dnsenum domain.com"
   ]
  },
  {
   "cell_type": "markdown",
   "metadata": {},
   "source": [
    "## Password Spraying"
   ]
  },
  {
   "cell_type": "code",
   "execution_count": null,
   "metadata": {},
   "outputs": [],
   "source": [
    "# Perform a Password Spray Attack (using crackmapexec):\n",
    "\n",
    "crackmapexec smb 192.168.1.1 -u users.txt -p passwords.txt"
   ]
  },
  {
   "cell_type": "code",
   "execution_count": null,
   "metadata": {},
   "outputs": [],
   "source": [
    "# BloodHound Data Collection (Linux) Use SharpHound (via impacket or bloodhound-python):\n",
    "\n",
    "bloodhound-python -d domain.com -u username -p password -ns 192.168.1.1 -c All\n"
   ]
  },
  {
   "cell_type": "code",
   "execution_count": null,
   "metadata": {},
   "outputs": [],
   "source": [
    "# NTLM Authentication Testing: Check for NTLM Authentication (using ntlm-info):\n",
    "\n",
    "ntlm-info -t 192.168.1.1"
   ]
  },
  {
   "cell_type": "code",
   "execution_count": null,
   "metadata": {},
   "outputs": [],
   "source": [
    "# SNMP Enumeration: Enumerate SNMP Information (using snmpwalk):\n",
    "\n",
    "snmpwalk -c public -v1 192.168.1.1"
   ]
  },
  {
   "cell_type": "code",
   "execution_count": null,
   "metadata": {},
   "outputs": [],
   "source": [
    "# Vulnerability Scanning: Scan for Vulnerabilities (using nikto or nmap):\n",
    "\n",
    "nikto -h 192.168.1.1\n",
    "nmap --script vuln 192.168.1.1"
   ]
  },
  {
   "cell_type": "markdown",
   "metadata": {},
   "source": [
    "# END TIME"
   ]
  },
  {
   "cell_type": "code",
   "execution_count": null,
   "metadata": {
    "scrolled": true
   },
   "outputs": [],
   "source": [
    "now = datetime.now()\n",
    "\n",
    "end_time = now.strftime(\"%H:%M:%S\")\n",
    "print(\"End Time =\", end_time)"
   ]
  },
  {
   "cell_type": "markdown",
   "metadata": {
    "nbpresent": {
     "id": "a32f0eda-e181-439b-a5e6-18375a13db58"
    }
   },
   "source": [
    "# Parsing Script & Excel Deliverable Serialization"
   ]
  },
  {
   "cell_type": "code",
   "execution_count": null,
   "metadata": {
    "nbpresent": {
     "id": "11e92f0d-28b2-4265-bd96-9b4e705e6948"
    }
   },
   "outputs": [],
   "source": [
    "#REQ: import requirements: pandas, openpyxl\n",
    "import pandas as pd\n",
    "import os\n",
    "import csv\n",
    "import glob\n",
    "import xlsxwriter\n",
    "import openpyxl\n",
    "\n",
    "\n",
    "#path to parse to and read files from\n",
    "path = \"/root/.jupyter/{}/\".format(FOLDER_NAME)\n",
    "\n",
    "#all files ending in .csv\n",
    "all_files = glob.glob(os.path.join(path, \"*.csv\"))\n",
    "\n",
    "#initialize writer\n",
    "writer = pd.ExcelWriter('/root/.jupyter/' + FOLDER_NAME + '/' + FOLDER_NAME + '_OSINT.xlsx', engine='openpyxl')\n",
    "\n",
    "#write all files into excel from dataframes and name worksheet by filename \n",
    "print(\"The following files are being parsed to \" + path + \":\") \n",
    "print(\"\")\n",
    "for f in all_files:\n",
    "    df = pd.read_csv(f)\n",
    "    print(f)\n",
    "    df.to_excel(writer, sheet_name=os.path.basename(f))\n",
    "\n",
    "writer.save()  \n",
    "\n",
    "print(\"\")\n",
    "print(\"Parsing of \" + FOLDER_NAME + \"_OSINT.xlsx Complete\")"
   ]
  },
  {
   "cell_type": "markdown",
   "metadata": {},
   "source": [
    "# Use Deepseek to review results"
   ]
  },
  {
   "cell_type": "code",
   "execution_count": null,
   "metadata": {},
   "outputs": [],
   "source": [
    "import requests\n",
    "\n",
    "# Define the API endpoint (replace with DeepSeek's actual API endpoint)\n",
    "api_url = \"https://api.deepseek.com/review\"\n",
    "\n",
    "# Prepare the payload (send the nmap output)\n",
    "payload = {\n",
    "    \"output\": nmap_output\n",
    "}\n",
    "\n",
    "# Send the request to the API\n",
    "response = requests.post(api_url, json=payload)\n",
    "\n",
    "# Check if the request was successful\n",
    "if response.status_code == 200:\n",
    "    review_results = response.json()\n",
    "    print(\"DeepSeek Review Results:\")\n",
    "    print(review_results)\n",
    "else:\n",
    "    print(\"Error sending request to DeepSeek API:\", response.status_code)"
   ]
  },
  {
   "cell_type": "markdown",
   "metadata": {},
   "source": [
    "# Reference\n",
    "\n",
    "- Recon: https://chat.deepseek.com/a/chat/s/5d783f90-4e9a-4af1-9ac9-538eeec422d0\n",
    "- GOAD Walk thru: https://mayfly277.github.io/posts/GOADv2-pwning-part2/\n",
    "- The Bear Necessities: https://spellzed.github.io/spellzedblog/2025/03/03/the-bear-necessities.html#lab-environment\n",
    "- Game Of Active Directory, Learn how to attack and detect AD attacks: https://www.youtube.com/watch?v=XjgxQ6gHfyU\n",
    "- DEF CON 32 - Winning the Game of Active Directory - Brandon Colley: https://www.youtube.com/watch?v=M-2d3sM3I2o&t=79s\n",
    "- A Drop of Jupyter: A Modular Approach to Penetration Testing: https://www.youtube.com/watch?v=LTNKMA65BtI\n",
    "- https://github.com/obheda12/JupyterPen\n",
    "- https://github.com/obheda12/OSINT-Threat-Intel-Scripts"
   ]
  }
 ],
 "metadata": {
  "anaconda-cloud": {},
  "kernelspec": {
   "display_name": "Python 3 (ipykernel)",
   "language": "python",
   "name": "python3"
  },
  "language_info": {
   "codemirror_mode": {
    "name": "ipython",
    "version": 3
   },
   "file_extension": ".py",
   "mimetype": "text/x-python",
   "name": "python",
   "nbconvert_exporter": "python",
   "pygments_lexer": "ipython3",
   "version": "3.12.7"
  },
  "nbpresent": {
   "slides": {},
   "themes": {}
  }
 },
 "nbformat": 4,
 "nbformat_minor": 4
}
